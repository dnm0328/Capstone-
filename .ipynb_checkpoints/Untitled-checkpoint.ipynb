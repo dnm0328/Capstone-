{
 "cells": [
  {
   "cell_type": "markdown",
   "metadata": {},
   "source": [
    "# HYPOTHESIS TEST # 1: "
   ]
  },
  {
   "cell_type": "markdown",
   "metadata": {},
   "source": [
    "***NULL Hypothesis:***\n",
    "\n",
    "The mean points_against and mean yrds_against for teams that make the playoffs = the mean points_against and mean yrds_against of teams that did not make the playoffs\n",
    "\n",
    "$$ p_M = P(\\text{avg_yards against & avg_pnts against for TMs that make playoffs}) $$\n",
    "$$ p_D = P(\\text{avg_yards against & avg_pnts against for TMs that don't make playoffs}) $$\n",
    "\n",
    "$$ H_0: \\ p_M = p_D $$"
   ]
  },
  {
   "cell_type": "markdown",
   "metadata": {},
   "source": [
    "***ALTERNATIVE Hypothesis:***\n",
    "\n",
    "The mean points_against and mean yrds_against for teams that make the playoffs   **<**   the mean points_against and mean yrds_against of teams that did not make the playoffs"
   ]
  },
  {
   "cell_type": "code",
   "execution_count": null,
   "metadata": {},
   "outputs": [],
   "source": []
  }
 ],
 "metadata": {
  "kernelspec": {
   "display_name": "Python 3",
   "language": "python",
   "name": "python3"
  },
  "language_info": {
   "codemirror_mode": {
    "name": "ipython",
    "version": 3
   },
   "file_extension": ".py",
   "mimetype": "text/x-python",
   "name": "python",
   "nbconvert_exporter": "python",
   "pygments_lexer": "ipython3",
   "version": "3.7.9"
  }
 },
 "nbformat": 4,
 "nbformat_minor": 4
}
