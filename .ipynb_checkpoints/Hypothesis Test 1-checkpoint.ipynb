{
 "cells": [
  {
   "cell_type": "markdown",
   "metadata": {},
   "source": [
    "# CAPSTONE 1: NFL Defensive Relevance"
   ]
  },
  {
   "cell_type": "markdown",
   "metadata": {},
   "source": [
    "## Hypothesis Test 1: Welch's t-test (avg_yds_against)"
   ]
  },
  {
   "cell_type": "markdown",
   "metadata": {},
   "source": [
    "***Scientific Question:***\n",
    "\n",
    "Does Defensive strength for an NFL team, based on yards allowed, increase or decrease your probability of making the playoffs in any given season? "
   ]
  },
  {
   "cell_type": "markdown",
   "metadata": {},
   "source": [
    "***Null Hypothesis:***\n",
    "\n",
    "The mean yrds_against for teams that make the playoffs = the mean yrds_against of teams that did not make the playoffs\n",
    "\n",
    "$$ p_M = P(\\text{avg_yards against for TMs that make playoffs}) $$\n",
    "$$ p_D = P(\\text{avg_yards against for TMs that don't make playoffs}) $$\n",
    "\n",
    "$$ H_0: \\ p_M = p_D $$"
   ]
  },
  {
   "cell_type": "markdown",
   "metadata": {},
   "source": [
    "***Alternative Hypothesis:***\n",
    "\n",
    "$$H_1: \\ p_M \\neq p_D $$"
   ]
  },
  {
   "cell_type": "markdown",
   "metadata": {},
   "source": [
    "***Determine the 'Test' Statistic:***\n",
    "\n",
    "Yearly averages of yards allowed/ game of each team in the last 11 NFL seasons. Splitting them into two samples. \n",
    "\n",
    "- SAMPLE 1: Teams in this time frame season who made the Playoffs\n",
    "- SAMPLE 2: Teams in this time frame season who did not make the Playoffs"
   ]
  },
  {
   "cell_type": "markdown",
   "metadata": {},
   "source": [
    "***Determine Distribution under Null Hypothesis:***\n",
    "\n",
    "The data being tested under the Welch's T-Test is normally distributed. This was proven by creating a histogram of each sample's mean, and observing the \"bell-curve\"."
   ]
  },
  {
   "cell_type": "markdown",
   "metadata": {},
   "source": [
    "***Determine Type of Hypothesis Test:***\n",
    "\n",
    "In order to Test this specific Hypothesis, we need to use the Welch's T-Test. We do this because the Welch's T-Test is defined as such: \n",
    "\n",
    "**\"...a two-sample location test which is used to test the hypothesis that two populations have equal means.\"**\n",
    "\n",
    "Because our Null Hypothesis states that both samples(Playoffs & non-Playoffs Teams) will indicate that our populations share identical means, we can use Welch's test to reject or accept that notion.  "
   ]
  },
  {
   "cell_type": "markdown",
   "metadata": {},
   "source": [
    "***Determine Significance Level ($\\alpha$) :***\n",
    "\n",
    "In order to make a strong argument towards rejection or acceptance of the Null Hypothesis we need to set our \" $\\alpha$ \" < '0.05'. For this test, we will set it to:\n",
    "\n",
    "$\\alpha = 0.02$"
   ]
  },
  {
   "cell_type": "markdown",
   "metadata": {},
   "source": [
    "***Collecting Data:***\n",
    "\n",
    "Defensive Statistics for every NFL team per season over a 2009 - 2019 timeframe (11 seasons). \n",
    "\n",
    "Data, per team, is broken down by the yearly average of the following columns:\n",
    "\n",
    "- Yds/G = average yards allowed per game\n",
    "- Playoffs = Boolean value (True or False) of making the playoffs for that season"
   ]
  },
  {
   "cell_type": "markdown",
   "metadata": {},
   "source": [
    "***Calculate p-value:***\n",
    "\n",
    "Based on the Welch's T-Test (Yds/G) the calculated p-value is:\n",
    "\n",
    "- pvalue = **1.4605969165431278e-06** / p-value = **0.0000014601**"
   ]
  },
  {
   "cell_type": "markdown",
   "metadata": {},
   "source": [
    "***Decide whether to reject/ accept the Null Hypothesis:***\n",
    "\n",
    "Because the p-value is lower than our dictated significance level ($\\alpha = 0.02$):\n",
    "\n",
    "p-value(Yds/G) < $\\alpha$"
   ]
  },
  {
   "cell_type": "markdown",
   "metadata": {},
   "source": [
    "***Results:***\n",
    "\n",
    "The Null Hypothesis is Rejected"
   ]
  }
 ],
 "metadata": {
  "kernelspec": {
   "display_name": "Python 3",
   "language": "python",
   "name": "python3"
  },
  "language_info": {
   "codemirror_mode": {
    "name": "ipython",
    "version": 3
   },
   "file_extension": ".py",
   "mimetype": "text/x-python",
   "name": "python",
   "nbconvert_exporter": "python",
   "pygments_lexer": "ipython3",
   "version": "3.7.9"
  }
 },
 "nbformat": 4,
 "nbformat_minor": 4
}
