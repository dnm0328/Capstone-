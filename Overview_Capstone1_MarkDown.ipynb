{
 "cells": [
  {
   "cell_type": "markdown",
   "metadata": {},
   "source": [
    "# CAPSTONE 1: Hypothesis Test "
   ]
  },
  {
   "cell_type": "markdown",
   "metadata": {},
   "source": [
    "***1. Scientific Question:***\n",
    "\n"
   ]
  },
  {
   "cell_type": "markdown",
   "metadata": {},
   "source": [
    "***2. Null Hypothesis:***\n",
    "\n",
    "The mean points_against and mean yrds_against for teams that make the playoffs = the mean points_against and mean yrds_against of teams that did not make the playoffs\n",
    "\n",
    "$$ p_M = P(\\text{avg_yards against & avg_pnts against for TMs that make playoffs}) $$\n",
    "$$ p_D = P(\\text{avg_yards against & avg_pnts against for TMs that don't make playoffs}) $$\n",
    "\n",
    "$$ H_0: \\ p_M = p_D $$"
   ]
  },
  {
   "cell_type": "markdown",
   "metadata": {},
   "source": [
    "***3. Alternative Hypothesis:***\n",
    "\n",
    "The mean points_against and mean yrds_against for teams that make the playoffs   **<**   the mean points_against and mean yrds_against of teams that did not make the playoffs"
   ]
  },
  {
   "cell_type": "markdown",
   "metadata": {},
   "source": [
    "***4. Determine the 'Test' Statistic:***\n",
    "\n",
    "Yearly averages of of points allowed/ game & yards allowed/ game of each team of the last 11 NFL seasons. Splitting them into two samples. \n",
    "\n",
    "- SAMPLE 1: Teams in that particular season who made the Playoffs\n",
    "- SAMPLE 2: Teams in that particular season who did not make the Playoffs"
   ]
  },
  {
   "cell_type": "markdown",
   "metadata": {},
   "source": [
    "***5. Determine Distribution under Null Hypothesis:***\n",
    "\n",
    "The data being tested under the Welch's T-Test is normally distributed. We can prove that by creating a histogram of each sample's mean and observing the \"bell-curve\" distribution pattern. **SEE BELOW:**"
   ]
  },
  {
   "cell_type": "code",
   "execution_count": null,
   "metadata": {},
   "outputs": [],
   "source": [
    "# code for histogram "
   ]
  },
  {
   "cell_type": "code",
   "execution_count": 1,
   "metadata": {},
   "outputs": [],
   "source": [
    "# code for histogram"
   ]
  },
  {
   "cell_type": "code",
   "execution_count": 2,
   "metadata": {},
   "outputs": [],
   "source": [
    "# code for histogram"
   ]
  },
  {
   "cell_type": "code",
   "execution_count": 3,
   "metadata": {},
   "outputs": [],
   "source": [
    "# code for histogram"
   ]
  },
  {
   "cell_type": "markdown",
   "metadata": {},
   "source": [
    "***6. Determine Significance Level ($\\alpha$) :***\n",
    "\n",
    "In order to make a strong argument towards rejection or acceptance of the Null Hypothesis we need to set our \" $\\alpha$ \" at '0.05'.\n",
    "\n",
    "$\\alpha = 0.05$"
   ]
  },
  {
   "cell_type": "markdown",
   "metadata": {},
   "source": [
    "***Determine Type of Hypothesis Test:***\n",
    "\n",
    "In order to Test this specific Hypothesis, we need to use the Welch's T-Test. We do this because the Welch's T-Test is defined as such: \n",
    "\n",
    "**\"...a two-sample location test which is used to test the hypothesis that two populations have equal means.\"**\n",
    "\n",
    "Because our Null Hypothesis states that both samples(Playoffs & non-Playoffs Teams) will indicate that our populations share identical means, we can use Welch's test to reject or accept that notion.  "
   ]
  },
  {
   "cell_type": "code",
   "execution_count": null,
   "metadata": {},
   "outputs": [],
   "source": []
  }
 ],
 "metadata": {
  "kernelspec": {
   "display_name": "Python 3",
   "language": "python",
   "name": "python3"
  },
  "language_info": {
   "codemirror_mode": {
    "name": "ipython",
    "version": 3
   },
   "file_extension": ".py",
   "mimetype": "text/x-python",
   "name": "python",
   "nbconvert_exporter": "python",
   "pygments_lexer": "ipython3",
   "version": "3.7.9"
  }
 },
 "nbformat": 4,
 "nbformat_minor": 4
}
