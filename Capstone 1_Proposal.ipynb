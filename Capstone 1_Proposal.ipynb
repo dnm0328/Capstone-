{
 "cells": [
  {
   "cell_type": "markdown",
   "metadata": {},
   "source": [
    "# Proposal Summary:"
   ]
  },
  {
   "cell_type": "markdown",
   "metadata": {},
   "source": [
    "**Idea 1 (complex):** I want to scrape a variety of sports websites in order to gather the sufficient amount of data to analyze the differences between 'tenured' recievers and 'younger' ones, in order to find the peak receiver age in the NFL. \n",
    "\n",
    "In order to do this, I need to ensure that I analyze the top teir receivers across the entirety of the nfl, to analyze receivers that have similar yardage gained, and pass attempts. \n",
    "\n",
    "***Websites include:***\n",
    "\n",
    "- https://www.nfl.com/stats/player-stats/category/passing/2019/REG/all/passingyards/DESC\n",
    "\n",
    "- https://fftoday.com/rankings/playerrank.php?o=2&PosID=30&LeagueID=26955\n",
    "\n",
    "- https://www.pro-football-reference.com/leaders/rec_yds_active.htm\n",
    "\n",
    "- https://www.espn.com/nfl/stats"
   ]
  },
  {
   "cell_type": "markdown",
   "metadata": {},
   "source": [
    "**Idea 2 (easier):** This idea is much less complex and easier to manipulate and extrapulate data for. I want to analyze the direct relation between win percentage and defensive strenght. I.e. Does a stronger defense directly correlate to more wins.\n",
    "\n",
    "I will be using the same sites as above, but focused more on the \"team\" stats pages within those sites, rather than the individual tables. "
   ]
  }
 ],
 "metadata": {
  "kernelspec": {
   "display_name": "Python 3",
   "language": "python",
   "name": "python3"
  },
  "language_info": {
   "codemirror_mode": {
    "name": "ipython",
    "version": 3
   },
   "file_extension": ".py",
   "mimetype": "text/x-python",
   "name": "python",
   "nbconvert_exporter": "python",
   "pygments_lexer": "ipython3",
   "version": "3.7.9"
  }
 },
 "nbformat": 4,
 "nbformat_minor": 4
}
