{
 "cells": [
  {
   "cell_type": "code",
   "execution_count": 1,
   "metadata": {},
   "outputs": [],
   "source": [
    "import pandas as pd\n",
    "import numpy as np\n",
    "import scipy as sp\n",
    "from scipy.stats import ttest_ind\n",
    "import matplotlib.pyplot as plt\n",
    "plt.style.use('fivethirtyeight')"
   ]
  },
  {
   "cell_type": "code",
   "execution_count": 2,
   "metadata": {},
   "outputs": [],
   "source": [
    "year_lst = list(range(2009, 2020))"
   ]
  },
  {
   "cell_type": "code",
   "execution_count": 3,
   "metadata": {},
   "outputs": [
    {
     "data": {
      "text/plain": [
       "['data/2009_Update.csv',\n",
       " 'data/2010_Update.csv',\n",
       " 'data/2011_Update.csv',\n",
       " 'data/2012_Update.csv',\n",
       " 'data/2013_Update.csv',\n",
       " 'data/2014_Update.csv',\n",
       " 'data/2015_Update.csv',\n",
       " 'data/2016_Update.csv',\n",
       " 'data/2017_Update.csv',\n",
       " 'data/2018_Update.csv',\n",
       " 'data/2019_Update.csv']"
      ]
     },
     "execution_count": 3,
     "metadata": {},
     "output_type": "execute_result"
    }
   ],
   "source": [
    "csv_lst = []\n",
    "for num in year_lst:\n",
    "    csv_lst.append('data/{}_Update.csv'.format(num))\n",
    "csv_lst"
   ]
  },
  {
   "cell_type": "code",
   "execution_count": 4,
   "metadata": {},
   "outputs": [],
   "source": [
    "def split_playoff_tables(lst):\n",
    "    no_playoff = []\n",
    "    playoff = []\n",
    "    for i in lst:\n",
    "        df = pd.read_csv(i)\n",
    "        filtered = df[['year', 'Team', 'Pts/G', 'Yds/G', 'Playoff']]\n",
    "        playoff_tb = filtered.loc[lambda filtered: filtered['Playoff'] == True]\n",
    "        no_playoff_tb = filtered.loc[lambda filtered: filtered['Playoff'] == False]\n",
    "        playoff.append(playoff_tb)\n",
    "        no_playoff.append(no_playoff_tb)\n",
    "    return playoff, no_playoff"
   ]
  },
  {
   "cell_type": "code",
   "execution_count": 5,
   "metadata": {},
   "outputs": [],
   "source": [
    "yearly_splits = split_playoff_tables(csv_lst)"
   ]
  },
  {
   "cell_type": "code",
   "execution_count": 6,
   "metadata": {},
   "outputs": [
    {
     "data": {
      "text/html": [
       "<div>\n",
       "<style scoped>\n",
       "    .dataframe tbody tr th:only-of-type {\n",
       "        vertical-align: middle;\n",
       "    }\n",
       "\n",
       "    .dataframe tbody tr th {\n",
       "        vertical-align: top;\n",
       "    }\n",
       "\n",
       "    .dataframe thead th {\n",
       "        text-align: right;\n",
       "    }\n",
       "</style>\n",
       "<table border=\"1\" class=\"dataframe\">\n",
       "  <thead>\n",
       "    <tr style=\"text-align: right;\">\n",
       "      <th></th>\n",
       "      <th>year</th>\n",
       "      <th>Team</th>\n",
       "      <th>Pts/G</th>\n",
       "      <th>Yds/G</th>\n",
       "      <th>Playoff</th>\n",
       "    </tr>\n",
       "  </thead>\n",
       "  <tbody>\n",
       "    <tr>\n",
       "      <th>1</th>\n",
       "      <td>2009</td>\n",
       "      <td>Green Bay PackersGreen Bay</td>\n",
       "      <td>18.6</td>\n",
       "      <td>284.4</td>\n",
       "      <td>True</td>\n",
       "    </tr>\n",
       "    <tr>\n",
       "      <th>2</th>\n",
       "      <td>2009</td>\n",
       "      <td>Baltimore RavensBaltimore</td>\n",
       "      <td>16.3</td>\n",
       "      <td>300.5</td>\n",
       "      <td>True</td>\n",
       "    </tr>\n",
       "    <tr>\n",
       "      <th>3</th>\n",
       "      <td>2009</td>\n",
       "      <td>Cincinnati BengalsCincinnati</td>\n",
       "      <td>18.2</td>\n",
       "      <td>301.4</td>\n",
       "      <td>True</td>\n",
       "    </tr>\n",
       "    <tr>\n",
       "      <th>4</th>\n",
       "      <td>2009</td>\n",
       "      <td>Pittsburgh SteelersPittsburgh</td>\n",
       "      <td>20.2</td>\n",
       "      <td>305.3</td>\n",
       "      <td>True</td>\n",
       "    </tr>\n",
       "    <tr>\n",
       "      <th>8</th>\n",
       "      <td>2009</td>\n",
       "      <td>Dallas CowboysDallas</td>\n",
       "      <td>15.6</td>\n",
       "      <td>315.9</td>\n",
       "      <td>True</td>\n",
       "    </tr>\n",
       "    <tr>\n",
       "      <th>9</th>\n",
       "      <td>2009</td>\n",
       "      <td>Washington RedskinsWashington</td>\n",
       "      <td>21.0</td>\n",
       "      <td>319.7</td>\n",
       "      <td>True</td>\n",
       "    </tr>\n",
       "    <tr>\n",
       "      <th>11</th>\n",
       "      <td>2009</td>\n",
       "      <td>Philadelphia EaglesPhiladelphia</td>\n",
       "      <td>21.1</td>\n",
       "      <td>321.1</td>\n",
       "      <td>True</td>\n",
       "    </tr>\n",
       "    <tr>\n",
       "      <th>13</th>\n",
       "      <td>2009</td>\n",
       "      <td>New York GiantsNY Giants</td>\n",
       "      <td>26.7</td>\n",
       "      <td>324.9</td>\n",
       "      <td>True</td>\n",
       "    </tr>\n",
       "    <tr>\n",
       "      <th>15</th>\n",
       "      <td>2009</td>\n",
       "      <td>San Diego ChargersSan Diego</td>\n",
       "      <td>20.0</td>\n",
       "      <td>327.0</td>\n",
       "      <td>True</td>\n",
       "    </tr>\n",
       "    <tr>\n",
       "      <th>19</th>\n",
       "      <td>2009</td>\n",
       "      <td>Arizona CardinalsArizona</td>\n",
       "      <td>20.3</td>\n",
       "      <td>346.4</td>\n",
       "      <td>True</td>\n",
       "    </tr>\n",
       "    <tr>\n",
       "      <th>24</th>\n",
       "      <td>2009</td>\n",
       "      <td>New Orleans SaintsNew Orleans</td>\n",
       "      <td>21.3</td>\n",
       "      <td>357.8</td>\n",
       "      <td>True</td>\n",
       "    </tr>\n",
       "    <tr>\n",
       "      <th>26</th>\n",
       "      <td>2009</td>\n",
       "      <td>Tampa Bay BuccaneersTampa Bay</td>\n",
       "      <td>25.0</td>\n",
       "      <td>365.6</td>\n",
       "      <td>True</td>\n",
       "    </tr>\n",
       "  </tbody>\n",
       "</table>\n",
       "</div>"
      ],
      "text/plain": [
       "    year                             Team  Pts/G  Yds/G  Playoff\n",
       "1   2009       Green Bay PackersGreen Bay   18.6  284.4     True\n",
       "2   2009        Baltimore RavensBaltimore   16.3  300.5     True\n",
       "3   2009     Cincinnati BengalsCincinnati   18.2  301.4     True\n",
       "4   2009    Pittsburgh SteelersPittsburgh   20.2  305.3     True\n",
       "8   2009             Dallas CowboysDallas   15.6  315.9     True\n",
       "9   2009    Washington RedskinsWashington   21.0  319.7     True\n",
       "11  2009  Philadelphia EaglesPhiladelphia   21.1  321.1     True\n",
       "13  2009         New York GiantsNY Giants   26.7  324.9     True\n",
       "15  2009      San Diego ChargersSan Diego   20.0  327.0     True\n",
       "19  2009         Arizona CardinalsArizona   20.3  346.4     True\n",
       "24  2009    New Orleans SaintsNew Orleans   21.3  357.8     True\n",
       "26  2009    Tampa Bay BuccaneersTampa Bay   25.0  365.6     True"
      ]
     },
     "execution_count": 6,
     "metadata": {},
     "output_type": "execute_result"
    }
   ],
   "source": [
    "yearly_splits[0][0]  "
   ]
  },
  {
   "cell_type": "code",
   "execution_count": 7,
   "metadata": {},
   "outputs": [
    {
     "data": {
      "text/html": [
       "<div>\n",
       "<style scoped>\n",
       "    .dataframe tbody tr th:only-of-type {\n",
       "        vertical-align: middle;\n",
       "    }\n",
       "\n",
       "    .dataframe tbody tr th {\n",
       "        vertical-align: top;\n",
       "    }\n",
       "\n",
       "    .dataframe thead th {\n",
       "        text-align: right;\n",
       "    }\n",
       "</style>\n",
       "<table border=\"1\" class=\"dataframe\">\n",
       "  <thead>\n",
       "    <tr style=\"text-align: right;\">\n",
       "      <th></th>\n",
       "      <th>year</th>\n",
       "      <th>Team</th>\n",
       "      <th>Pts/G</th>\n",
       "      <th>Yds/G</th>\n",
       "      <th>Playoff</th>\n",
       "    </tr>\n",
       "  </thead>\n",
       "  <tbody>\n",
       "    <tr>\n",
       "      <th>0</th>\n",
       "      <td>2009</td>\n",
       "      <td>New York JetsNY Jets</td>\n",
       "      <td>14.8</td>\n",
       "      <td>252.3</td>\n",
       "      <td>False</td>\n",
       "    </tr>\n",
       "    <tr>\n",
       "      <th>5</th>\n",
       "      <td>2009</td>\n",
       "      <td>Minnesota VikingsMinnesota</td>\n",
       "      <td>19.5</td>\n",
       "      <td>305.5</td>\n",
       "      <td>False</td>\n",
       "    </tr>\n",
       "    <tr>\n",
       "      <th>6</th>\n",
       "      <td>2009</td>\n",
       "      <td>Denver BroncosDenver</td>\n",
       "      <td>20.2</td>\n",
       "      <td>315.0</td>\n",
       "      <td>False</td>\n",
       "    </tr>\n",
       "    <tr>\n",
       "      <th>7</th>\n",
       "      <td>2009</td>\n",
       "      <td>Carolina PanthersCarolina</td>\n",
       "      <td>19.2</td>\n",
       "      <td>315.8</td>\n",
       "      <td>False</td>\n",
       "    </tr>\n",
       "    <tr>\n",
       "      <th>10</th>\n",
       "      <td>2009</td>\n",
       "      <td>New England PatriotsNew England</td>\n",
       "      <td>17.8</td>\n",
       "      <td>320.2</td>\n",
       "      <td>False</td>\n",
       "    </tr>\n",
       "    <tr>\n",
       "      <th>12</th>\n",
       "      <td>2009</td>\n",
       "      <td>Houston TexansHouston</td>\n",
       "      <td>20.8</td>\n",
       "      <td>324.9</td>\n",
       "      <td>False</td>\n",
       "    </tr>\n",
       "    <tr>\n",
       "      <th>14</th>\n",
       "      <td>2009</td>\n",
       "      <td>San Francisco 49ersSan Francisco</td>\n",
       "      <td>17.6</td>\n",
       "      <td>326.4</td>\n",
       "      <td>False</td>\n",
       "    </tr>\n",
       "    <tr>\n",
       "      <th>16</th>\n",
       "      <td>2009</td>\n",
       "      <td>Chicago BearsChicago</td>\n",
       "      <td>23.4</td>\n",
       "      <td>337.8</td>\n",
       "      <td>False</td>\n",
       "    </tr>\n",
       "    <tr>\n",
       "      <th>17</th>\n",
       "      <td>2009</td>\n",
       "      <td>Indianapolis ColtsIndianapolis</td>\n",
       "      <td>19.2</td>\n",
       "      <td>339.2</td>\n",
       "      <td>False</td>\n",
       "    </tr>\n",
       "    <tr>\n",
       "      <th>18</th>\n",
       "      <td>2009</td>\n",
       "      <td>Buffalo BillsBuffalo</td>\n",
       "      <td>20.4</td>\n",
       "      <td>340.6</td>\n",
       "      <td>False</td>\n",
       "    </tr>\n",
       "    <tr>\n",
       "      <th>20</th>\n",
       "      <td>2009</td>\n",
       "      <td>Atlanta FalconsAtlanta</td>\n",
       "      <td>20.3</td>\n",
       "      <td>348.9</td>\n",
       "      <td>False</td>\n",
       "    </tr>\n",
       "    <tr>\n",
       "      <th>21</th>\n",
       "      <td>2009</td>\n",
       "      <td>Miami DolphinsMiami</td>\n",
       "      <td>24.4</td>\n",
       "      <td>349.3</td>\n",
       "      <td>False</td>\n",
       "    </tr>\n",
       "    <tr>\n",
       "      <th>22</th>\n",
       "      <td>2009</td>\n",
       "      <td>Jacksonville JaguarsJacksonville</td>\n",
       "      <td>23.8</td>\n",
       "      <td>352.3</td>\n",
       "      <td>False</td>\n",
       "    </tr>\n",
       "    <tr>\n",
       "      <th>23</th>\n",
       "      <td>2009</td>\n",
       "      <td>Seattle SeahawksSeattle</td>\n",
       "      <td>24.4</td>\n",
       "      <td>356.4</td>\n",
       "      <td>False</td>\n",
       "    </tr>\n",
       "    <tr>\n",
       "      <th>25</th>\n",
       "      <td>2009</td>\n",
       "      <td>Oakland RaidersOakland</td>\n",
       "      <td>23.7</td>\n",
       "      <td>361.9</td>\n",
       "      <td>False</td>\n",
       "    </tr>\n",
       "    <tr>\n",
       "      <th>27</th>\n",
       "      <td>2009</td>\n",
       "      <td>Tennessee TitansTennessee</td>\n",
       "      <td>25.1</td>\n",
       "      <td>365.6</td>\n",
       "      <td>False</td>\n",
       "    </tr>\n",
       "    <tr>\n",
       "      <th>28</th>\n",
       "      <td>2009</td>\n",
       "      <td>St. Louis RamsSt. Louis</td>\n",
       "      <td>27.2</td>\n",
       "      <td>372.8</td>\n",
       "      <td>False</td>\n",
       "    </tr>\n",
       "    <tr>\n",
       "      <th>29</th>\n",
       "      <td>2009</td>\n",
       "      <td>Kansas City ChiefsKansas City</td>\n",
       "      <td>26.5</td>\n",
       "      <td>388.2</td>\n",
       "      <td>False</td>\n",
       "    </tr>\n",
       "    <tr>\n",
       "      <th>30</th>\n",
       "      <td>2009</td>\n",
       "      <td>Cleveland BrownsCleveland</td>\n",
       "      <td>23.4</td>\n",
       "      <td>389.3</td>\n",
       "      <td>False</td>\n",
       "    </tr>\n",
       "    <tr>\n",
       "      <th>31</th>\n",
       "      <td>2009</td>\n",
       "      <td>Detroit LionsDetroit</td>\n",
       "      <td>30.9</td>\n",
       "      <td>392.1</td>\n",
       "      <td>False</td>\n",
       "    </tr>\n",
       "  </tbody>\n",
       "</table>\n",
       "</div>"
      ],
      "text/plain": [
       "    year                              Team  Pts/G  Yds/G  Playoff\n",
       "0   2009              New York JetsNY Jets   14.8  252.3    False\n",
       "5   2009        Minnesota VikingsMinnesota   19.5  305.5    False\n",
       "6   2009              Denver BroncosDenver   20.2  315.0    False\n",
       "7   2009         Carolina PanthersCarolina   19.2  315.8    False\n",
       "10  2009   New England PatriotsNew England   17.8  320.2    False\n",
       "12  2009             Houston TexansHouston   20.8  324.9    False\n",
       "14  2009  San Francisco 49ersSan Francisco   17.6  326.4    False\n",
       "16  2009              Chicago BearsChicago   23.4  337.8    False\n",
       "17  2009    Indianapolis ColtsIndianapolis   19.2  339.2    False\n",
       "18  2009              Buffalo BillsBuffalo   20.4  340.6    False\n",
       "20  2009            Atlanta FalconsAtlanta   20.3  348.9    False\n",
       "21  2009               Miami DolphinsMiami   24.4  349.3    False\n",
       "22  2009  Jacksonville JaguarsJacksonville   23.8  352.3    False\n",
       "23  2009           Seattle SeahawksSeattle   24.4  356.4    False\n",
       "25  2009            Oakland RaidersOakland   23.7  361.9    False\n",
       "27  2009         Tennessee TitansTennessee   25.1  365.6    False\n",
       "28  2009           St. Louis RamsSt. Louis   27.2  372.8    False\n",
       "29  2009     Kansas City ChiefsKansas City   26.5  388.2    False\n",
       "30  2009         Cleveland BrownsCleveland   23.4  389.3    False\n",
       "31  2009              Detroit LionsDetroit   30.9  392.1    False"
      ]
     },
     "execution_count": 7,
     "metadata": {},
     "output_type": "execute_result"
    }
   ],
   "source": [
    "yearly_splits[1][0]"
   ]
  },
  {
   "cell_type": "code",
   "execution_count": 8,
   "metadata": {},
   "outputs": [],
   "source": [
    "Yes_playoffs_df = pd.concat(yearly_splits[0][:])"
   ]
  },
  {
   "cell_type": "code",
   "execution_count": 9,
   "metadata": {},
   "outputs": [],
   "source": [
    "No_playoffs_df = pd.concat(yearly_splits[1][:])"
   ]
  },
  {
   "cell_type": "code",
   "execution_count": 10,
   "metadata": {},
   "outputs": [
    {
     "data": {
      "text/html": [
       "<div>\n",
       "<style scoped>\n",
       "    .dataframe tbody tr th:only-of-type {\n",
       "        vertical-align: middle;\n",
       "    }\n",
       "\n",
       "    .dataframe tbody tr th {\n",
       "        vertical-align: top;\n",
       "    }\n",
       "\n",
       "    .dataframe thead th {\n",
       "        text-align: right;\n",
       "    }\n",
       "</style>\n",
       "<table border=\"1\" class=\"dataframe\">\n",
       "  <thead>\n",
       "    <tr style=\"text-align: right;\">\n",
       "      <th></th>\n",
       "      <th>year</th>\n",
       "      <th>Team</th>\n",
       "      <th>Pts/G</th>\n",
       "      <th>Yds/G</th>\n",
       "      <th>Playoff</th>\n",
       "    </tr>\n",
       "  </thead>\n",
       "  <tbody>\n",
       "    <tr>\n",
       "      <th>0</th>\n",
       "      <td>2009</td>\n",
       "      <td>New York JetsNY Jets</td>\n",
       "      <td>14.8</td>\n",
       "      <td>252.3</td>\n",
       "      <td>False</td>\n",
       "    </tr>\n",
       "    <tr>\n",
       "      <th>5</th>\n",
       "      <td>2009</td>\n",
       "      <td>Minnesota VikingsMinnesota</td>\n",
       "      <td>19.5</td>\n",
       "      <td>305.5</td>\n",
       "      <td>False</td>\n",
       "    </tr>\n",
       "    <tr>\n",
       "      <th>6</th>\n",
       "      <td>2009</td>\n",
       "      <td>Denver BroncosDenver</td>\n",
       "      <td>20.2</td>\n",
       "      <td>315.0</td>\n",
       "      <td>False</td>\n",
       "    </tr>\n",
       "    <tr>\n",
       "      <th>7</th>\n",
       "      <td>2009</td>\n",
       "      <td>Carolina PanthersCarolina</td>\n",
       "      <td>19.2</td>\n",
       "      <td>315.8</td>\n",
       "      <td>False</td>\n",
       "    </tr>\n",
       "    <tr>\n",
       "      <th>10</th>\n",
       "      <td>2009</td>\n",
       "      <td>New England PatriotsNew England</td>\n",
       "      <td>17.8</td>\n",
       "      <td>320.2</td>\n",
       "      <td>False</td>\n",
       "    </tr>\n",
       "    <tr>\n",
       "      <th>...</th>\n",
       "      <td>...</td>\n",
       "      <td>...</td>\n",
       "      <td>...</td>\n",
       "      <td>...</td>\n",
       "      <td>...</td>\n",
       "    </tr>\n",
       "    <tr>\n",
       "      <th>26</th>\n",
       "      <td>2019</td>\n",
       "      <td>Washington RedskinsWashington</td>\n",
       "      <td>27.2</td>\n",
       "      <td>385.1</td>\n",
       "      <td>False</td>\n",
       "    </tr>\n",
       "    <tr>\n",
       "      <th>28</th>\n",
       "      <td>2019</td>\n",
       "      <td>Cincinnati BengalsCincinnati</td>\n",
       "      <td>26.2</td>\n",
       "      <td>393.7</td>\n",
       "      <td>False</td>\n",
       "    </tr>\n",
       "    <tr>\n",
       "      <th>29</th>\n",
       "      <td>2019</td>\n",
       "      <td>Miami DolphinsMiami</td>\n",
       "      <td>30.9</td>\n",
       "      <td>397.8</td>\n",
       "      <td>False</td>\n",
       "    </tr>\n",
       "    <tr>\n",
       "      <th>30</th>\n",
       "      <td>2019</td>\n",
       "      <td>Detroit LionsDetroit</td>\n",
       "      <td>26.4</td>\n",
       "      <td>400.4</td>\n",
       "      <td>False</td>\n",
       "    </tr>\n",
       "    <tr>\n",
       "      <th>31</th>\n",
       "      <td>2019</td>\n",
       "      <td>Arizona CardinalsArizona</td>\n",
       "      <td>27.6</td>\n",
       "      <td>402.0</td>\n",
       "      <td>False</td>\n",
       "    </tr>\n",
       "  </tbody>\n",
       "</table>\n",
       "<p>220 rows × 5 columns</p>\n",
       "</div>"
      ],
      "text/plain": [
       "    year                             Team  Pts/G  Yds/G  Playoff\n",
       "0   2009             New York JetsNY Jets   14.8  252.3    False\n",
       "5   2009       Minnesota VikingsMinnesota   19.5  305.5    False\n",
       "6   2009             Denver BroncosDenver   20.2  315.0    False\n",
       "7   2009        Carolina PanthersCarolina   19.2  315.8    False\n",
       "10  2009  New England PatriotsNew England   17.8  320.2    False\n",
       "..   ...                              ...    ...    ...      ...\n",
       "26  2019    Washington RedskinsWashington   27.2  385.1    False\n",
       "28  2019     Cincinnati BengalsCincinnati   26.2  393.7    False\n",
       "29  2019              Miami DolphinsMiami   30.9  397.8    False\n",
       "30  2019             Detroit LionsDetroit   26.4  400.4    False\n",
       "31  2019         Arizona CardinalsArizona   27.6  402.0    False\n",
       "\n",
       "[220 rows x 5 columns]"
      ]
     },
     "execution_count": 10,
     "metadata": {},
     "output_type": "execute_result"
    }
   ],
   "source": [
    "No_playoffs_df"
   ]
  },
  {
   "cell_type": "code",
   "execution_count": 11,
   "metadata": {},
   "outputs": [],
   "source": [
    "total_yds = Yes_playoffs_df['Yds/G'].sum() + No_playoffs_df['Yds/G'].sum()"
   ]
  },
  {
   "cell_type": "code",
   "execution_count": 12,
   "metadata": {},
   "outputs": [],
   "source": [
    "total_pts = Yes_playoffs_df['Pts/G'].sum() + No_playoffs_df['Pts/G'].sum()"
   ]
  },
  {
   "cell_type": "code",
   "execution_count": 13,
   "metadata": {},
   "outputs": [],
   "source": [
    "count = Yes_playoffs_df['Yds/G'].count() + No_playoffs_df['Yds/G'].count()"
   ]
  },
  {
   "cell_type": "code",
   "execution_count": 14,
   "metadata": {},
   "outputs": [
    {
     "name": "stdout",
     "output_type": "stream",
     "text": [
      "The average \"yrds against/ game\" for all teams over 11 seasons is 345.37\n"
     ]
    }
   ],
   "source": [
    "total_avg_yds = total_yds/ count\n",
    "print('The average \"yrds against/ game\" for all teams over 11 seasons is {:2.2f}'.format(total_avg_yds))"
   ]
  },
  {
   "cell_type": "code",
   "execution_count": 15,
   "metadata": {},
   "outputs": [
    {
     "name": "stdout",
     "output_type": "stream",
     "text": [
      "The average \"points against/ game\" for all teams over 11 seasons is 22.54\n"
     ]
    }
   ],
   "source": [
    "total_avg_pts = total_pts/ count\n",
    "print('The average \"points against/ game\" for all teams over 11 seasons is {:2.2f}'.format(total_avg_pts))"
   ]
  },
  {
   "cell_type": "code",
   "execution_count": 16,
   "metadata": {},
   "outputs": [],
   "source": [
    "yes_overall_df_yds = pd.DataFrame(Yes_playoffs_df['Yds/G'].describe())\n",
    "yes_overall_df_pts = pd.DataFrame(Yes_playoffs_df['Pts/G'].describe())"
   ]
  },
  {
   "cell_type": "code",
   "execution_count": 17,
   "metadata": {},
   "outputs": [],
   "source": [
    "yes_overall_df = pd.concat([yes_overall_df_yds, yes_overall_df_pts], axis=1,sort=False)"
   ]
  },
  {
   "cell_type": "code",
   "execution_count": 18,
   "metadata": {},
   "outputs": [
    {
     "data": {
      "text/html": [
       "<div>\n",
       "<style scoped>\n",
       "    .dataframe tbody tr th:only-of-type {\n",
       "        vertical-align: middle;\n",
       "    }\n",
       "\n",
       "    .dataframe tbody tr th {\n",
       "        vertical-align: top;\n",
       "    }\n",
       "\n",
       "    .dataframe thead th {\n",
       "        text-align: right;\n",
       "    }\n",
       "</style>\n",
       "<table border=\"1\" class=\"dataframe\">\n",
       "  <thead>\n",
       "    <tr style=\"text-align: right;\">\n",
       "      <th></th>\n",
       "      <th>Yds/G(Playoffs)</th>\n",
       "      <th>Pts/G(Playoffs)</th>\n",
       "    </tr>\n",
       "  </thead>\n",
       "  <tbody>\n",
       "    <tr>\n",
       "      <th>count</th>\n",
       "      <td>132.00</td>\n",
       "      <td>132.00</td>\n",
       "    </tr>\n",
       "    <tr>\n",
       "      <th>mean</th>\n",
       "      <td>334.92</td>\n",
       "      <td>20.19</td>\n",
       "    </tr>\n",
       "    <tr>\n",
       "      <th>std</th>\n",
       "      <td>32.04</td>\n",
       "      <td>2.88</td>\n",
       "    </tr>\n",
       "    <tr>\n",
       "      <th>min</th>\n",
       "      <td>267.10</td>\n",
       "      <td>14.10</td>\n",
       "    </tr>\n",
       "    <tr>\n",
       "      <th>25%</th>\n",
       "      <td>307.88</td>\n",
       "      <td>18.35</td>\n",
       "    </tr>\n",
       "    <tr>\n",
       "      <th>50%</th>\n",
       "      <td>338.15</td>\n",
       "      <td>20.20</td>\n",
       "    </tr>\n",
       "    <tr>\n",
       "      <th>75%</th>\n",
       "      <td>359.15</td>\n",
       "      <td>21.92</td>\n",
       "    </tr>\n",
       "    <tr>\n",
       "      <th>max</th>\n",
       "      <td>411.60</td>\n",
       "      <td>26.80</td>\n",
       "    </tr>\n",
       "  </tbody>\n",
       "</table>\n",
       "</div>"
      ],
      "text/plain": [
       "       Yds/G(Playoffs)  Pts/G(Playoffs)\n",
       "count           132.00           132.00\n",
       "mean            334.92            20.19\n",
       "std              32.04             2.88\n",
       "min             267.10            14.10\n",
       "25%             307.88            18.35\n",
       "50%             338.15            20.20\n",
       "75%             359.15            21.92\n",
       "max             411.60            26.80"
      ]
     },
     "execution_count": 18,
     "metadata": {},
     "output_type": "execute_result"
    }
   ],
   "source": [
    "yes_overall_df = yes_overall_df.rename(columns={'Yds/G': 'Yds/G(Playoffs)', 'Pts/G':'Pts/G(Playoffs)'})\n",
    "yes_overall_df = yes_overall_df.round(2)\n",
    "yes_overall_df"
   ]
  },
  {
   "cell_type": "code",
   "execution_count": 19,
   "metadata": {},
   "outputs": [],
   "source": [
    "no_overall_df_yds = pd.DataFrame(No_playoffs_df['Yds/G'].describe())\n",
    "no_overall_df_pts = pd.DataFrame(No_playoffs_df['Pts/G'].describe())\n",
    "no_overall_df = pd.concat([no_overall_df_yds, no_overall_df_pts], axis=1,sort=False)"
   ]
  },
  {
   "cell_type": "code",
   "execution_count": 20,
   "metadata": {},
   "outputs": [
    {
     "data": {
      "text/html": [
       "<div>\n",
       "<style scoped>\n",
       "    .dataframe tbody tr th:only-of-type {\n",
       "        vertical-align: middle;\n",
       "    }\n",
       "\n",
       "    .dataframe tbody tr th {\n",
       "        vertical-align: top;\n",
       "    }\n",
       "\n",
       "    .dataframe thead th {\n",
       "        text-align: right;\n",
       "    }\n",
       "</style>\n",
       "<table border=\"1\" class=\"dataframe\">\n",
       "  <thead>\n",
       "    <tr style=\"text-align: right;\">\n",
       "      <th></th>\n",
       "      <th>Yds/G(No Playoffs)</th>\n",
       "      <th>Pts/G(No Playoffs)</th>\n",
       "    </tr>\n",
       "  </thead>\n",
       "  <tbody>\n",
       "    <tr>\n",
       "      <th>count</th>\n",
       "      <td>220.00</td>\n",
       "      <td>220.00</td>\n",
       "    </tr>\n",
       "    <tr>\n",
       "      <th>mean</th>\n",
       "      <td>351.63</td>\n",
       "      <td>23.95</td>\n",
       "    </tr>\n",
       "    <tr>\n",
       "      <th>std</th>\n",
       "      <td>28.47</td>\n",
       "      <td>3.21</td>\n",
       "    </tr>\n",
       "    <tr>\n",
       "      <th>min</th>\n",
       "      <td>252.30</td>\n",
       "      <td>14.80</td>\n",
       "    </tr>\n",
       "    <tr>\n",
       "      <th>25%</th>\n",
       "      <td>333.00</td>\n",
       "      <td>21.58</td>\n",
       "    </tr>\n",
       "    <tr>\n",
       "      <th>50%</th>\n",
       "      <td>350.10</td>\n",
       "      <td>23.90</td>\n",
       "    </tr>\n",
       "    <tr>\n",
       "      <th>75%</th>\n",
       "      <td>373.05</td>\n",
       "      <td>26.52</td>\n",
       "    </tr>\n",
       "    <tr>\n",
       "      <th>max</th>\n",
       "      <td>440.10</td>\n",
       "      <td>30.90</td>\n",
       "    </tr>\n",
       "  </tbody>\n",
       "</table>\n",
       "</div>"
      ],
      "text/plain": [
       "       Yds/G(No Playoffs)  Pts/G(No Playoffs)\n",
       "count              220.00              220.00\n",
       "mean               351.63               23.95\n",
       "std                 28.47                3.21\n",
       "min                252.30               14.80\n",
       "25%                333.00               21.58\n",
       "50%                350.10               23.90\n",
       "75%                373.05               26.52\n",
       "max                440.10               30.90"
      ]
     },
     "execution_count": 20,
     "metadata": {},
     "output_type": "execute_result"
    }
   ],
   "source": [
    "no_overall_df = no_overall_df.rename(columns={'Yds/G': 'Yds/G(No Playoffs)', 'Pts/G':'Pts/G(No Playoffs)'})\n",
    "no_overall_df = no_overall_df.round(2)\n",
    "no_overall_df"
   ]
  },
  {
   "cell_type": "code",
   "execution_count": 21,
   "metadata": {},
   "outputs": [],
   "source": [
    "total_generic = pd.concat([yes_overall_df, no_overall_df], axis=1,sort=False)"
   ]
  },
  {
   "cell_type": "code",
   "execution_count": 22,
   "metadata": {},
   "outputs": [
    {
     "data": {
      "text/html": [
       "<div>\n",
       "<style scoped>\n",
       "    .dataframe tbody tr th:only-of-type {\n",
       "        vertical-align: middle;\n",
       "    }\n",
       "\n",
       "    .dataframe tbody tr th {\n",
       "        vertical-align: top;\n",
       "    }\n",
       "\n",
       "    .dataframe thead th {\n",
       "        text-align: right;\n",
       "    }\n",
       "</style>\n",
       "<table border=\"1\" class=\"dataframe\">\n",
       "  <thead>\n",
       "    <tr style=\"text-align: right;\">\n",
       "      <th></th>\n",
       "      <th>Yds/G(Playoffs)</th>\n",
       "      <th>Pts/G(Playoffs)</th>\n",
       "      <th>Yds/G(No Playoffs)</th>\n",
       "      <th>Pts/G(No Playoffs)</th>\n",
       "    </tr>\n",
       "  </thead>\n",
       "  <tbody>\n",
       "    <tr>\n",
       "      <th>count</th>\n",
       "      <td>132.00</td>\n",
       "      <td>132.00</td>\n",
       "      <td>220.00</td>\n",
       "      <td>220.00</td>\n",
       "    </tr>\n",
       "    <tr>\n",
       "      <th>mean</th>\n",
       "      <td>334.92</td>\n",
       "      <td>20.19</td>\n",
       "      <td>351.63</td>\n",
       "      <td>23.95</td>\n",
       "    </tr>\n",
       "    <tr>\n",
       "      <th>std</th>\n",
       "      <td>32.04</td>\n",
       "      <td>2.88</td>\n",
       "      <td>28.47</td>\n",
       "      <td>3.21</td>\n",
       "    </tr>\n",
       "    <tr>\n",
       "      <th>min</th>\n",
       "      <td>267.10</td>\n",
       "      <td>14.10</td>\n",
       "      <td>252.30</td>\n",
       "      <td>14.80</td>\n",
       "    </tr>\n",
       "    <tr>\n",
       "      <th>25%</th>\n",
       "      <td>307.88</td>\n",
       "      <td>18.35</td>\n",
       "      <td>333.00</td>\n",
       "      <td>21.58</td>\n",
       "    </tr>\n",
       "    <tr>\n",
       "      <th>50%</th>\n",
       "      <td>338.15</td>\n",
       "      <td>20.20</td>\n",
       "      <td>350.10</td>\n",
       "      <td>23.90</td>\n",
       "    </tr>\n",
       "    <tr>\n",
       "      <th>75%</th>\n",
       "      <td>359.15</td>\n",
       "      <td>21.92</td>\n",
       "      <td>373.05</td>\n",
       "      <td>26.52</td>\n",
       "    </tr>\n",
       "    <tr>\n",
       "      <th>max</th>\n",
       "      <td>411.60</td>\n",
       "      <td>26.80</td>\n",
       "      <td>440.10</td>\n",
       "      <td>30.90</td>\n",
       "    </tr>\n",
       "  </tbody>\n",
       "</table>\n",
       "</div>"
      ],
      "text/plain": [
       "       Yds/G(Playoffs)  Pts/G(Playoffs)  Yds/G(No Playoffs)  \\\n",
       "count           132.00           132.00              220.00   \n",
       "mean            334.92            20.19              351.63   \n",
       "std              32.04             2.88               28.47   \n",
       "min             267.10            14.10              252.30   \n",
       "25%             307.88            18.35              333.00   \n",
       "50%             338.15            20.20              350.10   \n",
       "75%             359.15            21.92              373.05   \n",
       "max             411.60            26.80              440.10   \n",
       "\n",
       "       Pts/G(No Playoffs)  \n",
       "count              220.00  \n",
       "mean                23.95  \n",
       "std                  3.21  \n",
       "min                 14.80  \n",
       "25%                 21.58  \n",
       "50%                 23.90  \n",
       "75%                 26.52  \n",
       "max                 30.90  "
      ]
     },
     "execution_count": 22,
     "metadata": {},
     "output_type": "execute_result"
    }
   ],
   "source": [
    "total_generic"
   ]
  },
  {
   "cell_type": "code",
   "execution_count": 23,
   "metadata": {},
   "outputs": [],
   "source": [
    "Yds_G_df = total_generic[['Yds/G(No Playoffs)', 'Yds/G(Playoffs)']]\n",
    "Pts_G_df = total_generic[['Pts/G(No Playoffs)', 'Pts/G(Playoffs)']]"
   ]
  },
  {
   "cell_type": "code",
   "execution_count": 24,
   "metadata": {},
   "outputs": [
    {
     "data": {
      "text/html": [
       "<div>\n",
       "<style scoped>\n",
       "    .dataframe tbody tr th:only-of-type {\n",
       "        vertical-align: middle;\n",
       "    }\n",
       "\n",
       "    .dataframe tbody tr th {\n",
       "        vertical-align: top;\n",
       "    }\n",
       "\n",
       "    .dataframe thead th {\n",
       "        text-align: right;\n",
       "    }\n",
       "</style>\n",
       "<table border=\"1\" class=\"dataframe\">\n",
       "  <thead>\n",
       "    <tr style=\"text-align: right;\">\n",
       "      <th></th>\n",
       "      <th>Yds/G(No Playoffs)</th>\n",
       "      <th>Yds/G(Playoffs)</th>\n",
       "    </tr>\n",
       "  </thead>\n",
       "  <tbody>\n",
       "    <tr>\n",
       "      <th>count</th>\n",
       "      <td>220.00</td>\n",
       "      <td>132.00</td>\n",
       "    </tr>\n",
       "    <tr>\n",
       "      <th>mean</th>\n",
       "      <td>351.63</td>\n",
       "      <td>334.92</td>\n",
       "    </tr>\n",
       "    <tr>\n",
       "      <th>std</th>\n",
       "      <td>28.47</td>\n",
       "      <td>32.04</td>\n",
       "    </tr>\n",
       "    <tr>\n",
       "      <th>min</th>\n",
       "      <td>252.30</td>\n",
       "      <td>267.10</td>\n",
       "    </tr>\n",
       "    <tr>\n",
       "      <th>25%</th>\n",
       "      <td>333.00</td>\n",
       "      <td>307.88</td>\n",
       "    </tr>\n",
       "    <tr>\n",
       "      <th>50%</th>\n",
       "      <td>350.10</td>\n",
       "      <td>338.15</td>\n",
       "    </tr>\n",
       "    <tr>\n",
       "      <th>75%</th>\n",
       "      <td>373.05</td>\n",
       "      <td>359.15</td>\n",
       "    </tr>\n",
       "    <tr>\n",
       "      <th>max</th>\n",
       "      <td>440.10</td>\n",
       "      <td>411.60</td>\n",
       "    </tr>\n",
       "  </tbody>\n",
       "</table>\n",
       "</div>"
      ],
      "text/plain": [
       "       Yds/G(No Playoffs)  Yds/G(Playoffs)\n",
       "count              220.00           132.00\n",
       "mean               351.63           334.92\n",
       "std                 28.47            32.04\n",
       "min                252.30           267.10\n",
       "25%                333.00           307.88\n",
       "50%                350.10           338.15\n",
       "75%                373.05           359.15\n",
       "max                440.10           411.60"
      ]
     },
     "execution_count": 24,
     "metadata": {},
     "output_type": "execute_result"
    }
   ],
   "source": [
    "Yds_G_df"
   ]
  },
  {
   "cell_type": "code",
   "execution_count": 25,
   "metadata": {},
   "outputs": [
    {
     "data": {
      "text/html": [
       "<div>\n",
       "<style scoped>\n",
       "    .dataframe tbody tr th:only-of-type {\n",
       "        vertical-align: middle;\n",
       "    }\n",
       "\n",
       "    .dataframe tbody tr th {\n",
       "        vertical-align: top;\n",
       "    }\n",
       "\n",
       "    .dataframe thead th {\n",
       "        text-align: right;\n",
       "    }\n",
       "</style>\n",
       "<table border=\"1\" class=\"dataframe\">\n",
       "  <thead>\n",
       "    <tr style=\"text-align: right;\">\n",
       "      <th></th>\n",
       "      <th>Pts/G(No Playoffs)</th>\n",
       "      <th>Pts/G(Playoffs)</th>\n",
       "    </tr>\n",
       "  </thead>\n",
       "  <tbody>\n",
       "    <tr>\n",
       "      <th>count</th>\n",
       "      <td>220.00</td>\n",
       "      <td>132.00</td>\n",
       "    </tr>\n",
       "    <tr>\n",
       "      <th>mean</th>\n",
       "      <td>23.95</td>\n",
       "      <td>20.19</td>\n",
       "    </tr>\n",
       "    <tr>\n",
       "      <th>std</th>\n",
       "      <td>3.21</td>\n",
       "      <td>2.88</td>\n",
       "    </tr>\n",
       "    <tr>\n",
       "      <th>min</th>\n",
       "      <td>14.80</td>\n",
       "      <td>14.10</td>\n",
       "    </tr>\n",
       "    <tr>\n",
       "      <th>25%</th>\n",
       "      <td>21.58</td>\n",
       "      <td>18.35</td>\n",
       "    </tr>\n",
       "    <tr>\n",
       "      <th>50%</th>\n",
       "      <td>23.90</td>\n",
       "      <td>20.20</td>\n",
       "    </tr>\n",
       "    <tr>\n",
       "      <th>75%</th>\n",
       "      <td>26.52</td>\n",
       "      <td>21.92</td>\n",
       "    </tr>\n",
       "    <tr>\n",
       "      <th>max</th>\n",
       "      <td>30.90</td>\n",
       "      <td>26.80</td>\n",
       "    </tr>\n",
       "  </tbody>\n",
       "</table>\n",
       "</div>"
      ],
      "text/plain": [
       "       Pts/G(No Playoffs)  Pts/G(Playoffs)\n",
       "count              220.00           132.00\n",
       "mean                23.95            20.19\n",
       "std                  3.21             2.88\n",
       "min                 14.80            14.10\n",
       "25%                 21.58            18.35\n",
       "50%                 23.90            20.20\n",
       "75%                 26.52            21.92\n",
       "max                 30.90            26.80"
      ]
     },
     "execution_count": 25,
     "metadata": {},
     "output_type": "execute_result"
    }
   ],
   "source": [
    "Pts_G_df"
   ]
  },
  {
   "cell_type": "code",
   "execution_count": 26,
   "metadata": {},
   "outputs": [
    {
     "data": {
      "text/plain": [
       "(334.92348484848475,\n",
       " 351.6322727272728,\n",
       " 132,\n",
       " 220,\n",
       " 31.92281852219954,\n",
       " 28.401350869251758)"
      ]
     },
     "execution_count": 26,
     "metadata": {},
     "output_type": "execute_result"
    }
   ],
   "source": [
    "data1_yrds = Yes_playoffs_df['Yds/G']\n",
    "data2_yrds = No_playoffs_df['Yds/G']\n",
    "data1_pnts = Yes_playoffs_df['Pts/G']\n",
    "data2_pnts = No_playoffs_df['Pts/G']\n",
    "mean1 = data1_yrds.mean()\n",
    "mean2 = data2_yrds.mean()\n",
    "mean_pnt1 = data1_pnts.mean()\n",
    "mean_pnt2 = data2_pnts.mean()\n",
    "num1 = data1_yrds.count()\n",
    "num2 = data2_yrds.count()\n",
    "std1 = np.std(data1_yrds)\n",
    "std2 = np.std(data2_yrds)\n",
    "mean1, mean2, num1, num2, std1, std2"
   ]
  },
  {
   "cell_type": "code",
   "execution_count": 27,
   "metadata": {},
   "outputs": [
    {
     "name": "stdout",
     "output_type": "stream",
     "text": [
      "Welch Test Statistic based on avg_yards allowed: -5.80\n",
      "Welch Test Statistic based on avg_pnts allowed: -12.93\n"
     ]
    }
   ],
   "source": [
    "def welch_test(data_1, data_2):\n",
    "    numerator = np.mean(data_1) - np.mean(data_2)\n",
    "    denominator_sq = (np.var(data_1) / len(data_2)) + (np.var(data_2) / len(data_2))\n",
    "    return numerator / np.sqrt(denominator_sq)\n",
    "test_statistic_yrds = welch_test(data1_yrds, data2_yrds)\n",
    "\n",
    "\n",
    "print(\"Welch Test Statistic based on avg_yards allowed: {:2.2f}\".format(test_statistic_yrds))\n",
    "\n",
    "test_statistic_pnts = welch_test(data1_pnts, data2_pnts)\n",
    "print(\"Welch Test Statistic based on avg_pnts allowed: {:2.2f}\".format(test_statistic_pnts))"
   ]
  },
  {
   "cell_type": "code",
   "execution_count": 28,
   "metadata": {},
   "outputs": [
    {
     "data": {
      "text/plain": [
       "Ttest_indResult(statistic=-4.9352262646919955, pvalue=1.4605969165431278e-06)"
      ]
     },
     "execution_count": 28,
     "metadata": {},
     "output_type": "execute_result"
    }
   ],
   "source": [
    "ttest_ind(data1_yrds, data2_yrds, equal_var=False)"
   ]
  },
  {
   "cell_type": "code",
   "execution_count": 29,
   "metadata": {},
   "outputs": [
    {
     "data": {
      "text/plain": [
       "Ttest_indResult(statistic=-11.32120590226296, pvalue=5.621094393622213e-25)"
      ]
     },
     "execution_count": 29,
     "metadata": {},
     "output_type": "execute_result"
    }
   ],
   "source": [
    "ttest_ind(data1_pnts, data2_pnts, equal_var=False)"
   ]
  },
  {
   "cell_type": "code",
   "execution_count": 30,
   "metadata": {},
   "outputs": [
    {
     "data": {
      "text/plain": [
       "Text(0.5, 1.0, \"Distribution of 'AVG_YDS Against' Under the Null Hypothesis\")"
      ]
     },
     "execution_count": 30,
     "metadata": {},
     "output_type": "execute_result"
    },
    {
     "data": {
      "image/png": "[encoded data removed]",
      "text/plain": [
       "<Figure size 1296x648 with 1 Axes>"
      ]
     },
     "metadata": {},
     "output_type": "display_data"
    }
   ],
   "source": [
    "fig, ax = plt.subplots(1, figsize=(18, 9))\n",
    "\n",
    "ax.vlines(x=total_avg_yds, ymin=0, ymax=.015, linewidth=4, linestyles='solid', label='NFL mean', color='yellow')\n",
    "ax.vlines(x=mean1, ymin=0, ymax=.015, linewidth=3, linestyles='solid', label='Playoff Team mean', color='b')\n",
    "ax.vlines(x=mean2, ymin=0, ymax=.015, linewidth=3, linestyles='solid', label='Non-Playoff Team mean', color='r')\n",
    "ax.hist(data1_yrds,alpha=.7, density=True, bins=13, label=\"Teams that Made Playoffs\")\n",
    "ax.hist(data2_yrds, alpha=.4, density=True, bins=13, label=\"Teams that Didn't Make Playoffs\")\n",
    "ax.set_xlabel('Allowed Yards/ Game')\n",
    "ax.legend()\n",
    "ax.set_title(\"Distribution of 'AVG_YDS Against' Under the Null Hypothesis\")"
   ]
  },
  {
   "cell_type": "code",
   "execution_count": 31,
   "metadata": {},
   "outputs": [
    {
     "data": {
      "text/plain": [
       "Text(0.5, 1.0, \"Distribution of 'AVG_Pts Against' Under the Null Hypothesis\")"
      ]
     },
     "execution_count": 31,
     "metadata": {},
     "output_type": "execute_result"
    },
    {
     "data": {
      "image/png": "[encoded data removed]",
      "text/plain": [
       "<Figure size 1296x648 with 1 Axes>"
      ]
     },
     "metadata": {},
     "output_type": "display_data"
    }
   ],
   "source": [
    "fig, ax = plt.subplots(1, figsize=(18, 9))\n",
    "\n",
    "ax.vlines(x=total_avg_pts, ymin=0, ymax=.16, linewidth=4, linestyles='solid', label='NFL mean', color='yellow')\n",
    "ax.vlines(x=mean_pnt1, ymin=0, ymax=.16, linewidth=3, linestyles='solid', label='Playoff Team mean', color='b')\n",
    "ax.vlines(x=mean_pnt2, ymin=0, ymax=.16, linewidth=3, linestyles='solid', label='Non-Playoff Team mean', color='r')\n",
    "ax.hist(data1_pnts,alpha=.7, density=True, bins=12, label=\"Teams that Made Playoffs\")\n",
    "ax.hist(data2_pnts, alpha=.4, density=True, bins=12, label=\"Teams that Didn't Make Playoffs\")\n",
    "ax.set_xlabel('Allowed Pts/ Game')\n",
    "ax.legend()\n",
    "ax.set_title(\"Distribution of 'AVG_Pts Against' Under the Null Hypothesis\")"
   ]
  },
  {
   "cell_type": "code",
   "execution_count": 77,
   "metadata": {},
   "outputs": [
    {
     "data": {
      "text/plain": [
       "<matplotlib.legend.Legend at 0x7fd828615150>"
      ]
     },
     "execution_count": 77,
     "metadata": {},
     "output_type": "execute_result"
    },
    {
     "data": {
      "image/png": "[encoded data removed]",
      "text/plain": [
       "<Figure size 720x360 with 1 Axes>"
      ]
     },
     "metadata": {},
     "output_type": "display_data"
    }
   ],
   "source": [
    "\n",
    "fig, ax = plt.subplots(1, figsize=(10, 5))\n",
    "\n",
    "ax.scatter(data1_yrds, np.repeat(0, len(data1_yrds)) + np.random.normal(0, .1, len(data1_yrds)), s=30, label='Playoff Teams')\n",
    "ax.scatter(data2_yrds, np.repeat(1, len(data2_yrds)) + np.random.normal(0, .1, len(data2_yrds)), s=30, label='Non-Playoff Teams')\n",
    "ax.scatter(total_avg_yds, 0.5, s=600, color='green', marker='*', label='NFL mean')\n",
    "ax.scatter(mean1, 0, s=5000, color='black', marker='|')\n",
    "ax.scatter(mean2, 1, s=5000, color='black', marker='|')\n",
    "ax.set_yticks([0, 1])\n",
    "ax.set_yticklabels([\"Playoff Teams\", \"Non-Playoff Teams\"])\n",
    "ax.set_xlabel('Yearly Average Yards Allowed (2009 - 2019)')\n",
    "ax.legend(loc='upper right', bbox_to_anchor=(0.5, 1.05),\n",
    "          ncol=3, fancybox=True, shadow=True)"
   ]
  },
  {
   "cell_type": "code",
   "execution_count": null,
   "metadata": {},
   "outputs": [],
   "source": []
  }
 ],
 "metadata": {
  "kernelspec": {
   "display_name": "Python 3",
   "language": "python",
   "name": "python3"
  },
  "language_info": {
   "codemirror_mode": {
    "name": "ipython",
    "version": 3
   },
   "file_extension": ".py",
   "mimetype": "text/x-python",
   "name": "python",
   "nbconvert_exporter": "python",
   "pygments_lexer": "ipython3",
   "version": "3.7.9"
  }
 },
 "nbformat": 4,
 "nbformat_minor": 4
}
